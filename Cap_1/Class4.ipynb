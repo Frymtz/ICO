{
 "cells": [
  {
   "cell_type": "markdown",
   "id": "f9c174cf",
   "metadata": {},
   "source": [
    "P: Chute inicial, sistema mais rápido. Maior ações proporcionais ao erro\n",
    "I: Amortecimento, acomodação assintótica \n",
    "D: Impulsos\n",
    "\n",
    "$\\frac{Y(s)}{E(s)} = k_p + \\frac{k_i}{s} + s\\cdot k_d( \\frac{w_c}{s+w_c} )$\n",
    "\n",
    "Tal que $\\frac{w_c}{s+w_c}$ filtro passa-baixa e torna o controlador causal.\n",
    "\n",
    "\n",
    "    Método de Euler  s:=\\frac{1-z^{-1}}{T_s}\n",
    "\n"
   ]
  }
 ],
 "metadata": {
  "language_info": {
   "name": "python"
  }
 },
 "nbformat": 4,
 "nbformat_minor": 5
}
