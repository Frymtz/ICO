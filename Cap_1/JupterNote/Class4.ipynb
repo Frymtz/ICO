{
 "cells": [
  {
   "cell_type": "markdown",
   "id": "f9c174cf",
   "metadata": {},
   "source": [
    "P: Chute inicial, sistema mais rápido. Maior ações proporcionais ao erro\n",
    "I: Amortecimento, acomodação assintótica \n",
    "D: Impulsos\n",
    "\n",
    "$\\frac{Y(s)}{E(s)} = k_p + \\frac{k_i}{s} + s\\cdot k_d( \\frac{w_c}{s+w_c} )$\n",
    "\n",
    "Tal que $\\frac{w_c}{s+w_c}$ filtro passa-baixa e torna o controlador causal.\n",
    "\n",
    "\n",
    "    Método de Euler  s:=\\frac{1-z^{-1}}{T_s}\n",
    "\n"
   ]
  },
  {
   "cell_type": "markdown",
   "id": "f8037056",
   "metadata": {},
   "source": [
    "---------------\n",
    "#### Class 6\n",
    "---------------\n",
    "\n",
    "Zeros foras do circulo unitário são capturados pelo metodos dos minimos quadrados dinamica de fase de não mínima (undershot)\n",
    "Zeros outside of unit circle are catch by min roots generating phase non-minimun\n",
    "\n",
    "\n",
    "---------------\n",
    "#### Class 7: Análise  de estabilidade asssintótica\n",
    "---------------\n",
    "\n",
    "Nocões sobre estabilidade relativa e controle robusto.\n",
    "\n",
    "- Polos e malha fechada\n",
    "- \n",
    "$G_{MF}(.)=\\frac{Y(s)}{R(s)} = \\frac{C(.)G(.)}{1+C(.)G(.)}$\n",
    "\n",
    "$G_{MD}(.)=C(.)G(.)$\n",
    "\n",
    "Preposição: Elevada amplificação em baixas frequências e atenuação em baixas frequências.\n",
    "\n",
    "Gain Margin\n",
    "Phase Margin\n",
    "\n",
    "\n",
    "CENÁRIIO QUE NÃO PODE SER RE´RPRENSATADO PELO C*G: Quando ou o controlador ou a planta é instável\n",
    "\n",
    "\n",
    "\n",
    "\n",
    "\n"
   ]
  }
 ],
 "metadata": {
  "language_info": {
   "name": "python"
  }
 },
 "nbformat": 4,
 "nbformat_minor": 5
}
