{
 "cells": [
  {
   "cell_type": "markdown",
   "id": "b030c323",
   "metadata": {},
   "source": [
    "## Notas Importantes\n",
    "\n",
    "#### Nota 1\n",
    "\n",
    "$K_s$ refere-se ao ganho estático do sistema, pois representa a relação entre a saída e a entrada do sistema em regime estacionário, ou seja, quando o sistema atinge o equilíbrio e as variáveis não mudam mais com o tempo\n",
    "\n",
    "#### Nota 2\n",
    "\n",
    "A **planta** refere-se ao sistema físico que está sendo controlado ou analisado. É o modelo matemático que descreve o comportamento dinâmico do sistema real, incluindo suas entradas, saídas e como elas estão relacionadas. A planta é representada pela função de transferência **G_p(s)**, que descreve a relação entre a entrada e a saída do sistema no domínio da frequência.\n",
    "\n",
    "A **função de transferência** **G(s)**, por outro lado, pode representar qualquer subsistema ou o sistema completo, incluindo o controlador, sensores, atuadores e a planta. Ela é uma descrição matemática que relaciona a entrada e a saída de um sistema linear e invariante no tempo (LTI) no domínio de Laplace.\n"
   ]
  }
 ],
 "metadata": {
  "language_info": {
   "name": "python"
  }
 },
 "nbformat": 4,
 "nbformat_minor": 5
}
